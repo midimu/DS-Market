{
 "cells": [
  {
   "cell_type": "markdown",
   "metadata": {},
   "source": [
    "<img src='../img/logo.png' alt='DS Market logo' height='150px'>"
   ]
  },
  {
   "cell_type": "markdown",
   "metadata": {},
   "source": [
    "# DS Market Sales Report and Analysis"
   ]
  },
  {
   "cell_type": "markdown",
   "metadata": {},
   "source": [
    "## Table of Contents\n",
    "\n",
    "* [A. Introduction](#introduction)\n",
    "* [B. Importing Libraries](#libraries)\n",
    "* [C. Importing data](#data)"
   ]
  },
  {
   "cell_type": "markdown",
   "metadata": {},
   "source": [
    "## A. Introduction <a class=\"anchor\" id=\"introduction\"></a>\n",
    "\n",
    "DS Market (previously known as TradiStores) is a small chain of shopping centres across the USA that has found itself amongst the very latecomers to the digital transformation that has been reshaping the retail sector for a quite few years. The company's change of name is only the first step of a disruptive five years plan to completely remodel each single process within the company. This new strategy has made the company incorporate a new Chief Digital Officer to help the company lead their decisions based on the huge amount of data available.\n",
    "\n",
    "Until now, sales predictions have always been done using rudimentary approaches, and the margins of error obtained, are affecting many areas of the company. The magnitude of these errors stopped being acceptable a long time ago. In addition, many of the internal processed within the company (stock estimations, prices optimization, deliveries, stockout predictions...) are very manual processed with a strong dependence on business experience, and their optimizations using AI methods has been included as part of the 5-year digital transformation plan.\n",
    "\n",
    "In this notebook, the idea is to get the current picture of DS Market. We are going to explore all the available data the company can share and do an initial analysis on the following. We will analyse the data from NY, Boston and Philadelphia to:\n",
    "- Check what products are popular and which ones are not so popular anymore\n",
    "- If these vary across cities and/or stores\n",
    "- If these vary in prices\n",
    "\n",
    "With that, the marketing department will take actions to exploit these differences."
   ]
  },
  {
   "cell_type": "markdown",
   "metadata": {},
   "source": [
    "## B. Importing Libraries <a class=\"anchor\" id=\"libraries\"></a>"
   ]
  },
  {
   "cell_type": "code",
   "execution_count": 8,
   "metadata": {},
   "outputs": [],
   "source": [
    "# system and path management\n",
    "import sys\n",
    "sys.path.append('../scripts') # including custom functions inside scripts\n",
    "\n",
    "# removing system warnings\n",
    "import warnings\n",
    "warnings.filterwarnings('ignore')\n",
    "\n",
    "# file management\n",
    "import file_management\n",
    "\n",
    "# data manipulation\n",
    "import pandas as pd\n",
    "import numpy as np\n",
    "\n",
    "# plotting\n",
    "import matplotlib.pyplot as plt\n",
    "import seaborn as sns\n",
    "import plotly.express as px\n",
    "\n",
    "# plotting options\n",
    "%matplotlib inline\n",
    "plt.style.use('ggplot')\n",
    "plt.rcParams[\"figure.figsize\"] = (10, 7)\n",
    "\n",
    "pd.set_option('display.max_rows', 500)\n",
    "pd.set_option('display.max_columns', 500)\n",
    "pd.options.display.float_format = '{:,.2f}'.format"
   ]
  },
  {
   "cell_type": "markdown",
   "metadata": {},
   "source": [
    "## C. Importing Data <a class=\"anchor\" id=\"data\"></a>"
   ]
  },
  {
   "cell_type": "markdown",
   "metadata": {},
   "source": []
  }
 ],
 "metadata": {
  "interpreter": {
   "hash": "cf02ddb1f4e0cf91aaa2da81dcf25e5e7e70ec4e5f47b1fabe56a7ae8419c9a3"
  },
  "kernelspec": {
   "display_name": "Python 3.8.12 64-bit ('base': conda)",
   "language": "python",
   "name": "python3"
  },
  "language_info": {
   "codemirror_mode": {
    "name": "ipython",
    "version": 3
   },
   "file_extension": ".py",
   "mimetype": "text/x-python",
   "name": "python",
   "nbconvert_exporter": "python",
   "pygments_lexer": "ipython3",
   "version": "3.8.12"
  },
  "orig_nbformat": 4
 },
 "nbformat": 4,
 "nbformat_minor": 2
}
